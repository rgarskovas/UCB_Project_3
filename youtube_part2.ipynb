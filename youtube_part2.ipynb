{
 "cells": [
  {
   "cell_type": "code",
   "execution_count": 1,
   "metadata": {},
   "outputs": [],
   "source": [
    "#https://www.youtube.com/watch?v=j-3vuBynnOE&list=PLvbc8GGAy87LYN-2UWTJKDms1NlJYrYBL&index=3\n",
    "import numpy as np\n",
    "import matplotlib.pyplot as plt\n",
    "import os #for file path\n",
    "#import cv2 #for image operations\n",
    "from PIL import Image\n"
   ]
  },
  {
   "cell_type": "code",
   "execution_count": 2,
   "metadata": {},
   "outputs": [],
   "source": [
    "DATADIR=\"input-test/images\"\n",
    "CATEGORIES = [\"apple_pie\",\"chicken_curry\",\"churros\",\"macarons\",\"tiramisu\"]\n"
   ]
  },
  {
   "cell_type": "code",
   "execution_count": 3,
   "metadata": {},
   "outputs": [
    {
     "name": "stdout",
     "output_type": "stream",
     "text": [
      "<PIL.JpegImagePlugin.JpegImageFile image mode=RGB size=384x512 at 0x234BBA7C198>\n",
      "(64, 64, 3)\n"
     ]
    }
   ],
   "source": [
    "for category in CATEGORIES:\n",
    "    path = os.path.join(DATADIR, category) #input-test/imaages/apple_pie\n",
    "    for img in os.listdir(path): #going through each image in the category folder\n",
    "       # imag_array = cv2.imread(os.path.join(path,img),cv2.IMREAD_GRAYSCALE)\n",
    "\n",
    "        path2 = path + '/' + img\n",
    "\n",
    "        img = Image.open(path2)\n",
    "        \n",
    "\n",
    "        #plt.imshow(imag_array,cmap= 'gray')\n",
    "        # Opens a image in RGB mode  \n",
    "        im = img\n",
    "\n",
    "        # Size of the image in pixels (size of orginal image)  \n",
    "        # (This is not mandatory)  \n",
    "        width, height = im.size  \n",
    "\n",
    "        # Setting the points for cropped image  \n",
    "        left = 4\n",
    "        top = height / 5\n",
    "        right = 154\n",
    "        bottom = 3 * height / 5\n",
    "\n",
    "        # Cropped image of above dimension  \n",
    "        # (It will not change orginal image)  \n",
    "        #im1 = im.crop((left, top, right, bottom)) \n",
    "        newsize = (64, 64) \n",
    "        im1 = im.resize(newsize) \n",
    "\n",
    "        imag_array = np.array(im1)\n",
    "        print(img)\n",
    "        print(imag_array.shape)\n",
    "        \n",
    "        break\n",
    "    break"
   ]
  },
  {
   "cell_type": "code",
   "execution_count": 4,
   "metadata": {
    "scrolled": true
   },
   "outputs": [
    {
     "name": "stdout",
     "output_type": "stream",
     "text": [
      "[[[ 75  64  41]\n",
      "  [ 89  79  57]\n",
      "  [ 93  85  62]\n",
      "  ...\n",
      "  [152 158 136]\n",
      "  [158 165 150]\n",
      "  [142 150 135]]\n",
      "\n",
      " [[118 105  71]\n",
      "  [111  97  62]\n",
      "  [112  94  62]\n",
      "  ...\n",
      "  [119  98  66]\n",
      "  [131 118  90]\n",
      "  [147 143 115]]\n",
      "\n",
      " [[127 107  65]\n",
      "  [129 109  65]\n",
      "  [128 102  60]\n",
      "  ...\n",
      "  [114  92  59]\n",
      "  [115  92  60]\n",
      "  [117  96  64]]\n",
      "\n",
      " ...\n",
      "\n",
      " [[146 109  51]\n",
      "  [152 119  60]\n",
      "  [160 125  69]\n",
      "  ...\n",
      "  [113 110  92]\n",
      "  [133 135 123]\n",
      "  [139 141 133]]\n",
      "\n",
      " [[132  95  38]\n",
      "  [137 103  50]\n",
      "  [150 118  67]\n",
      "  ...\n",
      "  [ 87  76  51]\n",
      "  [ 92  81  62]\n",
      "  [104  99  84]]\n",
      "\n",
      " [[102  68  22]\n",
      "  [111  78  27]\n",
      "  [122  90  37]\n",
      "  ...\n",
      "  [ 90  79  62]\n",
      "  [ 80  64  44]\n",
      "  [ 78  63  38]]]\n"
     ]
    }
   ],
   "source": [
    "print(imag_array)"
   ]
  },
  {
   "cell_type": "code",
   "execution_count": 5,
   "metadata": {},
   "outputs": [],
   "source": [
    "training_data=[]\n",
    "\n",
    "def create_training_data():\n",
    "    for category in CATEGORIES:\n",
    "        path = os.path.join(DATADIR, category) #input-test/images/apple_pie\n",
    "        class_num=CATEGORIES.index(category)     \n",
    "        \n",
    "        for img in os.listdir(path): #going through each image in the category folder\n",
    "            try:\n",
    "                #path = path + '/' + img     \n",
    "                \n",
    "                #imag_array = cv2.imread(os.path.join(path,img),cv2.IMREAD_GRAYSCALE)\n",
    "                \n",
    "                path = path + '/' + img\n",
    "\n",
    "                img = Image.open(path2)\n",
    "                \n",
    "                #plt.imshow(imag_array,cmap= 'gray')\n",
    "                # Opens a image in RGB mode  \n",
    "                im = img\n",
    "\n",
    "                # Size of the image in pixels (size of orginal image)  \n",
    "                # (This is not mandatory)  \n",
    "                width, height = im.size  \n",
    "\n",
    "                # Setting the points for cropped image  \n",
    "                left = 4\n",
    "                top = height / 5\n",
    "                right = 154\n",
    "                bottom = 3 * height / 5\n",
    "\n",
    "                # Cropped image of above dimension  \n",
    "                # (It will not change orginal image)  \n",
    "                im1 = im.crop((left, top, right, bottom)) \n",
    "                newsize = (64, 64) \n",
    "                im1 = im1.resize(newsize) \n",
    "\n",
    "                imag_array = np.array(im1)\n",
    "\n",
    "                training_data.append([imag_array,class_num])\n",
    "            except Exception as e:\n",
    "                pass\n",
    "        \n",
    "create_training_data()"
   ]
  },
  {
   "cell_type": "code",
   "execution_count": 8,
   "metadata": {},
   "outputs": [
    {
     "data": {
      "text/plain": [
       "(64, 64, 3)"
      ]
     },
     "execution_count": 8,
     "metadata": {},
     "output_type": "execute_result"
    }
   ],
   "source": [
    "training_data[3][0].shape"
   ]
  },
  {
   "cell_type": "code",
   "execution_count": null,
   "metadata": {},
   "outputs": [],
   "source": [
    "im.show() "
   ]
  },
  {
   "cell_type": "code",
   "execution_count": null,
   "metadata": {},
   "outputs": [],
   "source": [
    "print(len(training_data))"
   ]
  },
  {
   "cell_type": "code",
   "execution_count": null,
   "metadata": {},
   "outputs": [],
   "source": [
    "#shuffle the data so it doesn't only learn one thing at a time and swtich minds\n",
    "import random\n",
    "\n",
    "random.shuffle(training_data)"
   ]
  },
  {
   "cell_type": "code",
   "execution_count": null,
   "metadata": {},
   "outputs": [],
   "source": [
    "#1st image 64x64 array, \n",
    "training_data[0]"
   ]
  },
  {
   "cell_type": "code",
   "execution_count": null,
   "metadata": {},
   "outputs": [],
   "source": [
    "X = []\n",
    "y = []"
   ]
  },
  {
   "cell_type": "code",
   "execution_count": null,
   "metadata": {},
   "outputs": [],
   "source": [
    "for features, label in training_data:\n",
    "    X.append(features)\n",
    "    y.append(label)\n",
    "\n",
    "#1 is for the grey scale, if change to 3 will be for color images\n",
    "X = np.array(X).reshape(-1,IMG_SIZE,IMG_SIZE,3)"
   ]
  },
  {
   "cell_type": "code",
   "execution_count": null,
   "metadata": {},
   "outputs": [],
   "source": []
  },
  {
   "cell_type": "code",
   "execution_count": null,
   "metadata": {},
   "outputs": [],
   "source": [
    "import pickle"
   ]
  },
  {
   "cell_type": "code",
   "execution_count": null,
   "metadata": {},
   "outputs": [],
   "source": [
    "#save your transformed data\n",
    "pickle_out = open(\"X.pickle\",\"wb\")\n",
    "pickle.dump(X,pickle_out)\n",
    "pickle_out.close()"
   ]
  },
  {
   "cell_type": "code",
   "execution_count": null,
   "metadata": {},
   "outputs": [],
   "source": [
    "pickle_out = open(\"y.pickle\",\"wb\")\n",
    "pickle.dump(y,pickle_out)\n",
    "pickle_out.close()"
   ]
  },
  {
   "cell_type": "code",
   "execution_count": null,
   "metadata": {},
   "outputs": [],
   "source": []
  }
 ],
 "metadata": {
  "kernelspec": {
   "display_name": "Python 3",
   "language": "python",
   "name": "python3"
  },
  "language_info": {
   "codemirror_mode": {
    "name": "ipython",
    "version": 3
   },
   "file_extension": ".py",
   "mimetype": "text/x-python",
   "name": "python",
   "nbconvert_exporter": "python",
   "pygments_lexer": "ipython3",
   "version": "3.6.10"
  }
 },
 "nbformat": 4,
 "nbformat_minor": 4
}
